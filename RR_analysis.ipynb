{
  "nbformat": 4,
  "nbformat_minor": 0,
  "metadata": {
    "colab": {
      "name": "RR_analysis_shared.ipynb",
      "provenance": [],
      "collapsed_sections": [],
      "toc_visible": true,
      "include_colab_link": true
    },
    "kernelspec": {
      "name": "python3",
      "display_name": "Python 3"
    }
  },
  "cells": [
    {
      "cell_type": "markdown",
      "metadata": {
        "id": "view-in-github",
        "colab_type": "text"
      },
      "source": [
        "<a href=\"https://colab.research.google.com/github/Simplar/Effect-of-temporal-window-on-HR-estimation/blob/master/RR_analysis.ipynb\" target=\"_parent\"><img src=\"https://colab.research.google.com/assets/colab-badge.svg\" alt=\"Open In Colab\"/></a>"
      ]
    },
    {
      "cell_type": "markdown",
      "metadata": {
        "id": "VqJ3zkPKdE6U",
        "colab_type": "text"
      },
      "source": [
        "This notebook is designed to support CVPM-2020 paper of CVPR Workshops, \"Remote Photoplethysmography: Rarely Considered Factors\"\n",
        "Author: Mikhail Kopeliovich, kop@km.ru\n",
        "If you use this code in your project, please, cite the paper:\n"
      ]
    },
    {
      "cell_type": "code",
      "metadata": {
        "id": "4HDL3yjjYBcl",
        "colab_type": "code",
        "colab": {}
      },
      "source": [
        "# main imports\n",
        "import tempfile\n",
        "import os\n",
        "import numpy as np\n",
        "import pandas as pd\n",
        "import glob"
      ],
      "execution_count": 0,
      "outputs": []
    },
    {
      "cell_type": "markdown",
      "metadata": {
        "id": "nxLfSeDJb-rR",
        "colab_type": "text"
      },
      "source": [
        "# Download and parsing"
      ]
    },
    {
      "cell_type": "code",
      "metadata": {
        "id": "OVoc6C0WTt78",
        "colab_type": "code",
        "outputId": "d2f2d690-c70a-4a6d-e795-268d4d9ecbde",
        "colab": {
          "base_uri": "https://localhost:8080/",
          "height": 204
        }
      },
      "source": [
        "# Download subset of Fantasia database\n",
        "# Dataset description: https://archive.physionet.org/physiobank/database/fantasia/subset/\n",
        "fantasia_link = 'https://www.physionet.org/physiobank/database/fantasia/subset/heartbeat.tar'\n",
        "tar_path = tempfile.gettempdir() + '/' + 'heartbeat.tar'\n",
        "dir_subset = '/content/fantasia_subset/'  # note: Place your path to dataset directory here\n",
        "DIR_RR = dir_subset + 'heartbeat/'\n",
        "# download dataset to tmp folder\n",
        "!wget {fantasia_link} -O {tar_path}\n",
        "# extract archive\n",
        "os.makedirs(dir_subset, exist_ok=True)\n",
        "!tar -xf {tar_path} --directory {dir_subset}"
      ],
      "execution_count": 3,
      "outputs": [
        {
          "output_type": "stream",
          "text": [
            "--2020-04-12 17:30:20--  https://www.physionet.org/physiobank/database/fantasia/subset/heartbeat.tar\n",
            "Resolving www.physionet.org (www.physionet.org)... 18.13.52.205\n",
            "Connecting to www.physionet.org (www.physionet.org)|18.13.52.205|:443... connected.\n",
            "HTTP request sent, awaiting response... 200 OK\n",
            "Length: 419840 (410K) [text/plain]\n",
            "Saving to: ‘/tmp/heartbeat.tar’\n",
            "\n",
            "\r/tmp/heartbeat.tar    0%[                    ]       0  --.-KB/s               \r/tmp/heartbeat.tar  100%[===================>] 410.00K  --.-KB/s    in 0.1s    \n",
            "\n",
            "2020-04-12 17:30:21 (3.04 MB/s) - ‘/tmp/heartbeat.tar’ saved [419840/419840]\n",
            "\n"
          ],
          "name": "stdout"
        }
      ]
    },
    {
      "cell_type": "code",
      "metadata": {
        "id": "0d8TRVrsp4nK",
        "colab_type": "code",
        "colab": {}
      },
      "source": [
        "# parse txt\n",
        "data_rr = []\n",
        "filepath_txt = glob.glob(DIR_RR + '*.txt')\n",
        "for filepath in filepath_txt:\n",
        "  rr = np.loadtxt(filepath)\n",
        "  basename = os.path.splitext(os.path.basename(filepath))[0]\n",
        "  data_rr.append(rr)\n",
        "time_rr = [np.vstack([np.cumsum(rr), rr]) for rr in data_rr]"
      ],
      "execution_count": 0,
      "outputs": []
    },
    {
      "cell_type": "markdown",
      "metadata": {
        "id": "X6F6eILjcDzB",
        "colab_type": "text"
      },
      "source": [
        "# Calculation of differences (errors) between different time intervals"
      ]
    },
    {
      "cell_type": "code",
      "metadata": {
        "id": "rah_lnQr7drL",
        "colab_type": "code",
        "colab": {}
      },
      "source": [
        "def rrs_for_range(subj_rr, t_start, t_length):\n",
        "  return subj_rr[1][np.where( np.logical_and(subj_rr[0]>t_start, subj_rr[0]<t_start+t_length) )[0]]\n",
        "\n",
        "def get_mean_rrs(subj_rr, t_start_big, int_big, int_small, step_small, rrs_big):\n",
        "  if int_small == 0:\n",
        "    return rrs_big\n",
        "  rrs = [rrs_for_range(subj_rr, t_start_small, int_small).mean()\n",
        "         for t_start_small in range(t_start_big, t_start_big + int_big - int_small, step_small)]\n",
        "  return np.asarray(rrs)"
      ],
      "execution_count": 0,
      "outputs": []
    },
    {
      "cell_type": "code",
      "metadata": {
        "id": "0IEtApcbQ-7Q",
        "colab_type": "code",
        "colab": {}
      },
      "source": [
        "# Compute errors between each pair of intervals in bpm (beats per minute)\n",
        "step_small = 5\n",
        "intervals = list(range(60,-1,-step_small)) #[60, 30, 10, 5, 0]\n",
        "errs = [ [ [] for i in range(len(intervals))] for j in range(len(intervals)) ]\n",
        "\n",
        "for subj_rr in time_rr:\n",
        "  for idx_big, int_big in enumerate(intervals[:-1]):\n",
        "    for t_start_big in range(0, int(subj_rr[0,-1])-int_big, int_big):\n",
        "      rrs_big = rrs_for_range(subj_rr, t_start_big, int_big)\n",
        "      hr_big = 1.0 / rrs_big.mean()\n",
        "      for idx_small, int_small in enumerate(intervals[idx_big+1:], idx_big+1):\n",
        "        rrs_mean_small = get_mean_rrs(subj_rr=subj_rr, t_start_big=t_start_big, int_big=int_big, int_small=int_small, step_small=step_small, rrs_big=rrs_big)\n",
        "        hrs_small = 1.0 / rrs_mean_small\n",
        "        err_nAE = np.abs(hrs_small - hr_big) / hr_big\n",
        "        errs[idx_big][idx_small].extend( err_nAE )      \n",
        "errs_mean = [ [np.mean(eee) if len(eee)>0 else np.NaN for eee in row] for row in errs ]\n",
        "errs_std = [ [np.std(eee) if len(eee)>0 else np.NaN  for eee in row] for row in errs ]"
      ],
      "execution_count": 0,
      "outputs": []
    },
    {
      "cell_type": "code",
      "metadata": {
        "id": "dJga17TdN3v3",
        "colab_type": "code",
        "colab": {}
      },
      "source": [
        "df = pd.DataFrame(errs_mean)\n",
        "intervals_inv = intervals[::-1]\n",
        "df = df.set_index( pd.Index(intervals) )\n",
        "df.columns = intervals\n",
        "df = df.reindex(sorted(df.columns), axis=1)\n",
        "df = df.reindex(sorted(df.index), axis=0)\n",
        "df = df.drop(index=0).drop(columns=60)"
      ],
      "execution_count": 0,
      "outputs": []
    },
    {
      "cell_type": "markdown",
      "metadata": {
        "id": "h2ngv1Yvb3IB",
        "colab_type": "text"
      },
      "source": [
        "# Plotting"
      ]
    },
    {
      "cell_type": "code",
      "metadata": {
        "id": "EMBgEKvLb2Rw",
        "colab_type": "code",
        "colab": {
          "base_uri": "https://localhost:8080/",
          "height": 421
        },
        "outputId": "dca227d1-606f-44cd-d7bc-be9aebfab8b4"
      },
      "source": [
        "# convert errors in bpm to percents\n",
        "df_percent = df.mul(100).round(1)\n",
        "df_percent[df_percent.notna()] = df_percent.astype(str) + '%'\n",
        "df_percent"
      ],
      "execution_count": 8,
      "outputs": [
        {
          "output_type": "execute_result",
          "data": {
            "text/html": [
              "<div>\n",
              "<style scoped>\n",
              "    .dataframe tbody tr th:only-of-type {\n",
              "        vertical-align: middle;\n",
              "    }\n",
              "\n",
              "    .dataframe tbody tr th {\n",
              "        vertical-align: top;\n",
              "    }\n",
              "\n",
              "    .dataframe thead th {\n",
              "        text-align: right;\n",
              "    }\n",
              "</style>\n",
              "<table border=\"1\" class=\"dataframe\">\n",
              "  <thead>\n",
              "    <tr style=\"text-align: right;\">\n",
              "      <th></th>\n",
              "      <th>0</th>\n",
              "      <th>5</th>\n",
              "      <th>10</th>\n",
              "      <th>15</th>\n",
              "      <th>20</th>\n",
              "      <th>25</th>\n",
              "      <th>30</th>\n",
              "      <th>35</th>\n",
              "      <th>40</th>\n",
              "      <th>45</th>\n",
              "      <th>50</th>\n",
              "      <th>55</th>\n",
              "    </tr>\n",
              "  </thead>\n",
              "  <tbody>\n",
              "    <tr>\n",
              "      <th>5</th>\n",
              "      <td>2.7%</td>\n",
              "      <td>NaN</td>\n",
              "      <td>NaN</td>\n",
              "      <td>NaN</td>\n",
              "      <td>NaN</td>\n",
              "      <td>NaN</td>\n",
              "      <td>NaN</td>\n",
              "      <td>NaN</td>\n",
              "      <td>NaN</td>\n",
              "      <td>NaN</td>\n",
              "      <td>NaN</td>\n",
              "      <td>NaN</td>\n",
              "    </tr>\n",
              "    <tr>\n",
              "      <th>10</th>\n",
              "      <td>3.3%</td>\n",
              "      <td>1.7%</td>\n",
              "      <td>NaN</td>\n",
              "      <td>NaN</td>\n",
              "      <td>NaN</td>\n",
              "      <td>NaN</td>\n",
              "      <td>NaN</td>\n",
              "      <td>NaN</td>\n",
              "      <td>NaN</td>\n",
              "      <td>NaN</td>\n",
              "      <td>NaN</td>\n",
              "      <td>NaN</td>\n",
              "    </tr>\n",
              "    <tr>\n",
              "      <th>15</th>\n",
              "      <td>3.6%</td>\n",
              "      <td>2.1%</td>\n",
              "      <td>1.2%</td>\n",
              "      <td>NaN</td>\n",
              "      <td>NaN</td>\n",
              "      <td>NaN</td>\n",
              "      <td>NaN</td>\n",
              "      <td>NaN</td>\n",
              "      <td>NaN</td>\n",
              "      <td>NaN</td>\n",
              "      <td>NaN</td>\n",
              "      <td>NaN</td>\n",
              "    </tr>\n",
              "    <tr>\n",
              "      <th>20</th>\n",
              "      <td>3.8%</td>\n",
              "      <td>2.4%</td>\n",
              "      <td>1.5%</td>\n",
              "      <td>0.9%</td>\n",
              "      <td>NaN</td>\n",
              "      <td>NaN</td>\n",
              "      <td>NaN</td>\n",
              "      <td>NaN</td>\n",
              "      <td>NaN</td>\n",
              "      <td>NaN</td>\n",
              "      <td>NaN</td>\n",
              "      <td>NaN</td>\n",
              "    </tr>\n",
              "    <tr>\n",
              "      <th>25</th>\n",
              "      <td>4.0%</td>\n",
              "      <td>2.6%</td>\n",
              "      <td>1.8%</td>\n",
              "      <td>1.2%</td>\n",
              "      <td>0.8%</td>\n",
              "      <td>NaN</td>\n",
              "      <td>NaN</td>\n",
              "      <td>NaN</td>\n",
              "      <td>NaN</td>\n",
              "      <td>NaN</td>\n",
              "      <td>NaN</td>\n",
              "      <td>NaN</td>\n",
              "    </tr>\n",
              "    <tr>\n",
              "      <th>30</th>\n",
              "      <td>4.2%</td>\n",
              "      <td>2.8%</td>\n",
              "      <td>2.1%</td>\n",
              "      <td>1.5%</td>\n",
              "      <td>1.1%</td>\n",
              "      <td>0.6%</td>\n",
              "      <td>NaN</td>\n",
              "      <td>NaN</td>\n",
              "      <td>NaN</td>\n",
              "      <td>NaN</td>\n",
              "      <td>NaN</td>\n",
              "      <td>NaN</td>\n",
              "    </tr>\n",
              "    <tr>\n",
              "      <th>35</th>\n",
              "      <td>4.3%</td>\n",
              "      <td>2.9%</td>\n",
              "      <td>2.2%</td>\n",
              "      <td>1.8%</td>\n",
              "      <td>1.3%</td>\n",
              "      <td>0.9%</td>\n",
              "      <td>0.6%</td>\n",
              "      <td>NaN</td>\n",
              "      <td>NaN</td>\n",
              "      <td>NaN</td>\n",
              "      <td>NaN</td>\n",
              "      <td>NaN</td>\n",
              "    </tr>\n",
              "    <tr>\n",
              "      <th>40</th>\n",
              "      <td>4.3%</td>\n",
              "      <td>3.1%</td>\n",
              "      <td>2.4%</td>\n",
              "      <td>2.0%</td>\n",
              "      <td>1.6%</td>\n",
              "      <td>1.2%</td>\n",
              "      <td>0.8%</td>\n",
              "      <td>0.5%</td>\n",
              "      <td>NaN</td>\n",
              "      <td>NaN</td>\n",
              "      <td>NaN</td>\n",
              "      <td>NaN</td>\n",
              "    </tr>\n",
              "    <tr>\n",
              "      <th>45</th>\n",
              "      <td>4.4%</td>\n",
              "      <td>3.2%</td>\n",
              "      <td>2.5%</td>\n",
              "      <td>2.1%</td>\n",
              "      <td>1.8%</td>\n",
              "      <td>1.4%</td>\n",
              "      <td>1.1%</td>\n",
              "      <td>0.7%</td>\n",
              "      <td>0.4%</td>\n",
              "      <td>NaN</td>\n",
              "      <td>NaN</td>\n",
              "      <td>NaN</td>\n",
              "    </tr>\n",
              "    <tr>\n",
              "      <th>50</th>\n",
              "      <td>4.5%</td>\n",
              "      <td>3.2%</td>\n",
              "      <td>2.7%</td>\n",
              "      <td>2.3%</td>\n",
              "      <td>2.0%</td>\n",
              "      <td>1.6%</td>\n",
              "      <td>1.3%</td>\n",
              "      <td>1.0%</td>\n",
              "      <td>0.7%</td>\n",
              "      <td>0.4%</td>\n",
              "      <td>NaN</td>\n",
              "      <td>NaN</td>\n",
              "    </tr>\n",
              "    <tr>\n",
              "      <th>55</th>\n",
              "      <td>4.5%</td>\n",
              "      <td>3.3%</td>\n",
              "      <td>2.7%</td>\n",
              "      <td>2.4%</td>\n",
              "      <td>2.1%</td>\n",
              "      <td>1.8%</td>\n",
              "      <td>1.5%</td>\n",
              "      <td>1.2%</td>\n",
              "      <td>0.9%</td>\n",
              "      <td>0.6%</td>\n",
              "      <td>0.4%</td>\n",
              "      <td>NaN</td>\n",
              "    </tr>\n",
              "    <tr>\n",
              "      <th>60</th>\n",
              "      <td>4.6%</td>\n",
              "      <td>3.3%</td>\n",
              "      <td>2.8%</td>\n",
              "      <td>2.4%</td>\n",
              "      <td>2.1%</td>\n",
              "      <td>1.8%</td>\n",
              "      <td>1.6%</td>\n",
              "      <td>1.3%</td>\n",
              "      <td>1.1%</td>\n",
              "      <td>0.8%</td>\n",
              "      <td>0.6%</td>\n",
              "      <td>0.3%</td>\n",
              "    </tr>\n",
              "  </tbody>\n",
              "</table>\n",
              "</div>"
            ],
            "text/plain": [
              "      0     5     10    15    20    25    30    35    40    45    50    55\n",
              "5   2.7%   NaN   NaN   NaN   NaN   NaN   NaN   NaN   NaN   NaN   NaN   NaN\n",
              "10  3.3%  1.7%   NaN   NaN   NaN   NaN   NaN   NaN   NaN   NaN   NaN   NaN\n",
              "15  3.6%  2.1%  1.2%   NaN   NaN   NaN   NaN   NaN   NaN   NaN   NaN   NaN\n",
              "20  3.8%  2.4%  1.5%  0.9%   NaN   NaN   NaN   NaN   NaN   NaN   NaN   NaN\n",
              "25  4.0%  2.6%  1.8%  1.2%  0.8%   NaN   NaN   NaN   NaN   NaN   NaN   NaN\n",
              "30  4.2%  2.8%  2.1%  1.5%  1.1%  0.6%   NaN   NaN   NaN   NaN   NaN   NaN\n",
              "35  4.3%  2.9%  2.2%  1.8%  1.3%  0.9%  0.6%   NaN   NaN   NaN   NaN   NaN\n",
              "40  4.3%  3.1%  2.4%  2.0%  1.6%  1.2%  0.8%  0.5%   NaN   NaN   NaN   NaN\n",
              "45  4.4%  3.2%  2.5%  2.1%  1.8%  1.4%  1.1%  0.7%  0.4%   NaN   NaN   NaN\n",
              "50  4.5%  3.2%  2.7%  2.3%  2.0%  1.6%  1.3%  1.0%  0.7%  0.4%   NaN   NaN\n",
              "55  4.5%  3.3%  2.7%  2.4%  2.1%  1.8%  1.5%  1.2%  0.9%  0.6%  0.4%   NaN\n",
              "60  4.6%  3.3%  2.8%  2.4%  2.1%  1.8%  1.6%  1.3%  1.1%  0.8%  0.6%  0.3%"
            ]
          },
          "metadata": {
            "tags": []
          },
          "execution_count": 8
        }
      ]
    },
    {
      "cell_type": "markdown",
      "metadata": {
        "id": "lakVwZxVbzbf",
        "colab_type": "text"
      },
      "source": [
        "## Latex"
      ]
    },
    {
      "cell_type": "code",
      "metadata": {
        "id": "jl7GeVC6AiHU",
        "colab_type": "code",
        "outputId": "e453d8f3-d2f6-46a7-e2a7-513950e8a133",
        "colab": {
          "base_uri": "https://localhost:8080/",
          "height": 445
        }
      },
      "source": [
        "latex = df_percent.to_latex(\n",
        "    index=True, na_rep='-', \n",
        "    multirow = True,\n",
        "    multicolumn = True,\n",
        "    caption='Averaged differences between HR values estimated on internal temporal windows ($s_2$) located within external ones ($s_1$). Window sizes are given in seconds. As $s_1>s_2$, the resulting matrix is lower triangular.',\n",
        "    label='dVal')\n",
        "latex = latex.replace('lllllllllllll', 'c|llllllllllll')\n",
        "latex = latex.replace('{table}', '{table*}')\n",
        "print(latex)"
      ],
      "execution_count": 9,
      "outputs": [
        {
          "output_type": "stream",
          "text": [
            "\\begin{table*}\n",
            "\\centering\n",
            "\\caption{Averaged differences between HR values estimated on internal temporal windows ($s_2$) located within external ones ($s_1$). Window sizes are given in seconds. As $s_1>s_2$, the resulting matrix is lower triangular.}\n",
            "\\label{dVal}\n",
            "\\begin{tabular}{c|llllllllllll}\n",
            "\\toprule\n",
            "{} &    0  &    5  &    10 &    15 &    20 &    25 &    30 &    35 &    40 &    45 &    50 &    55 \\\\\n",
            "\\midrule\n",
            "5  &  2.7\\% &     - &     - &     - &     - &     - &     - &     - &     - &     - &     - &     - \\\\\n",
            "10 &  3.3\\% &  1.7\\% &     - &     - &     - &     - &     - &     - &     - &     - &     - &     - \\\\\n",
            "15 &  3.6\\% &  2.1\\% &  1.2\\% &     - &     - &     - &     - &     - &     - &     - &     - &     - \\\\\n",
            "20 &  3.8\\% &  2.4\\% &  1.5\\% &  0.9\\% &     - &     - &     - &     - &     - &     - &     - &     - \\\\\n",
            "25 &  4.0\\% &  2.6\\% &  1.8\\% &  1.2\\% &  0.8\\% &     - &     - &     - &     - &     - &     - &     - \\\\\n",
            "30 &  4.2\\% &  2.8\\% &  2.1\\% &  1.5\\% &  1.1\\% &  0.6\\% &     - &     - &     - &     - &     - &     - \\\\\n",
            "35 &  4.3\\% &  2.9\\% &  2.2\\% &  1.8\\% &  1.3\\% &  0.9\\% &  0.6\\% &     - &     - &     - &     - &     - \\\\\n",
            "40 &  4.3\\% &  3.1\\% &  2.4\\% &  2.0\\% &  1.6\\% &  1.2\\% &  0.8\\% &  0.5\\% &     - &     - &     - &     - \\\\\n",
            "45 &  4.4\\% &  3.2\\% &  2.5\\% &  2.1\\% &  1.8\\% &  1.4\\% &  1.1\\% &  0.7\\% &  0.4\\% &     - &     - &     - \\\\\n",
            "50 &  4.5\\% &  3.2\\% &  2.7\\% &  2.3\\% &  2.0\\% &  1.6\\% &  1.3\\% &  1.0\\% &  0.7\\% &  0.4\\% &     - &     - \\\\\n",
            "55 &  4.5\\% &  3.3\\% &  2.7\\% &  2.4\\% &  2.1\\% &  1.8\\% &  1.5\\% &  1.2\\% &  0.9\\% &  0.6\\% &  0.4\\% &     - \\\\\n",
            "60 &  4.6\\% &  3.3\\% &  2.8\\% &  2.4\\% &  2.1\\% &  1.8\\% &  1.6\\% &  1.3\\% &  1.1\\% &  0.8\\% &  0.6\\% &  0.3\\% \\\\\n",
            "\\bottomrule\n",
            "\\end{tabular}\n",
            "\\end{table*}\n",
            "\n"
          ],
          "name": "stdout"
        }
      ]
    },
    {
      "cell_type": "markdown",
      "metadata": {
        "id": "h0kHD-bTbxq9",
        "colab_type": "text"
      },
      "source": [
        "## Heat map"
      ]
    },
    {
      "cell_type": "code",
      "metadata": {
        "id": "OWtYn7wIeoWv",
        "colab_type": "code",
        "outputId": "1147b838-1152-42f6-e08f-63ed16b2a31f",
        "colab": {
          "base_uri": "https://localhost:8080/",
          "height": 574
        }
      },
      "source": [
        "import pandas as pd\n",
        "import seaborn as sns\n",
        "import matplotlib.pyplot as plt\n",
        "\n",
        "sns.set(style=\"white\")\n",
        "mask = np.triu(np.ones_like(df, dtype=np.bool))\n",
        "f, ax = plt.subplots(figsize=(11, 9))\n",
        "cmap = sns.diverging_palette(255, 0, as_cmap=True)\n",
        "ax = sns.heatmap(df, mask=mask,\n",
        "                 cmap=cmap, vmin=0.0, vmax=df.max().max(), center=0.0,\n",
        "                 square=True, linewidths=.5, cbar_kws={\"shrink\": .5})\n",
        "ax.xaxis.set_label('Shorter temporal window size, sec')\n",
        "ax.xaxis.set_label('Longer temporal window size, sec')\n",
        "plt.savefig('TempWind.pdf', format='pdf')"
      ],
      "execution_count": 10,
      "outputs": [
        {
          "output_type": "stream",
          "text": [
            "/usr/local/lib/python3.6/dist-packages/statsmodels/tools/_testing.py:19: FutureWarning: pandas.util.testing is deprecated. Use the functions in the public API at pandas.testing instead.\n",
            "  import pandas.util.testing as tm\n"
          ],
          "name": "stderr"
        },
        {
          "output_type": "display_data",
          "data": {
            "image/png": "[encoded data removed]",
            "text/plain": [
              "<Figure size 792x648 with 2 Axes>"
            ]
          },
          "metadata": {
            "tags": []
          }
        }
      ]
    },
    {
      "cell_type": "markdown",
      "metadata": {
        "id": "OzUml02abrQI",
        "colab_type": "text"
      },
      "source": [
        "## Box plot"
      ]
    },
    {
      "cell_type": "code",
      "metadata": {
        "id": "gpCQ6jVPzUKr",
        "colab_type": "code",
        "colab": {}
      },
      "source": [
        "from collections import defaultdict\n",
        "diff = defaultdict(list)\n",
        "for idx_big, errs_row in enumerate(errs):\n",
        "  int_big = intervals[idx_big]\n",
        "  for idx_small, errs_vals in enumerate(errs_row):\n",
        "    if len(errs_vals) == 0: continue\n",
        "    int_small = intervals[idx_small]\n",
        "    int_diff = int_big - int_small\n",
        "    diff[intervals.index(int_diff)].extend(errs_vals)"
      ],
      "execution_count": 0,
      "outputs": []
    },
    {
      "cell_type": "code",
      "metadata": {
        "id": "-nIAqHyjPSEj",
        "colab_type": "code",
        "outputId": "95d3b44a-6e22-43f0-c395-6dfe669ebe2f",
        "colab": {
          "base_uri": "https://localhost:8080/",
          "height": 289
        }
      },
      "source": [
        "import matplotlib.ticker as mtick\n",
        "x = [intervals[key] for key in diff.keys()]\n",
        "y = diff.values()\n",
        "\n",
        "fig, ax = plt.subplots(1)\n",
        "\n",
        "ax.set_xticklabels(x)\n",
        "ax.boxplot(y, showfliers=False)\n",
        "ax.yaxis.set_major_formatter(mtick.PercentFormatter(xmax=1.0, decimals=0))\n",
        "ax.set_xlabel('Difference in temporal window size, sec')\n",
        "ax.set_ylabel('Relative difference in heart rate')\n",
        "fig.show()\n",
        "plt.savefig('DiffBox.pdf', format='pdf')"
      ],
      "execution_count": 12,
      "outputs": [
        {
          "output_type": "display_data",
          "data": {
            "image/png": "[encoded data removed]",
            "text/plain": [
              "<Figure size 432x288 with 1 Axes>"
            ]
          },
          "metadata": {
            "tags": []
          }
        }
      ]
    }
  ]
}